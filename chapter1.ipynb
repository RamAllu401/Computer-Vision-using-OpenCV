{
 "cells": [
  {
   "cell_type": "markdown",
   "metadata": {},
   "source": [
    "# Computer Vision using the OpenCV Library"
   ]
  },
  {
   "cell_type": "code",
   "execution_count": null,
   "metadata": {},
   "outputs": [],
   "source": []
  },
  {
   "cell_type": "markdown",
   "metadata": {},
   "source": [
    "# Chapter 01: Introduction to the OpenCV library"
   ]
  },
  {
   "cell_type": "code",
   "execution_count": null,
   "metadata": {},
   "outputs": [],
   "source": []
  },
  {
   "cell_type": "code",
   "execution_count": null,
   "metadata": {},
   "outputs": [],
   "source": []
  },
  {
   "cell_type": "markdown",
   "metadata": {},
   "source": [
    "This is a notebook where we explore computer vision by using the OpenCV library.  OpenCV (Open Source Computer Vision) is a library of programming functions mainly aimed at real-time computer vision. Originally developed by Intel, it was later supported by Willow Garage and is now maintained by Itseez. The library is cross-platform and free for use under the open-source BSD license. OpenCV supports the deep learning frameworks TensorFlow, Torch/PyTorch and Caffe."
   ]
  },
  {
   "cell_type": "markdown",
   "metadata": {},
   "source": [
    "# Using Windows to follow along"
   ]
  },
  {
   "cell_type": "code",
   "execution_count": null,
   "metadata": {},
   "outputs": [],
   "source": []
  },
  {
   "cell_type": "markdown",
   "metadata": {},
   "source": [
    "# Using Linux to follow along"
   ]
  },
  {
   "cell_type": "code",
   "execution_count": null,
   "metadata": {},
   "outputs": [],
   "source": []
  },
  {
   "cell_type": "markdown",
   "metadata": {},
   "source": [
    "I will be using three computer vision OpenCV books that I have found to be very helpful in their approach to the OpenCV library.\n",
    "The first book is by Robert Laganiere in his second edition.  The latest book does justice to the first edition and is just as good in an example laden approach. This is the link to his website:\n",
    "http://www.site.uottawa.ca/~laganier/publi.html\n",
    "    \n",
    "The second book that I will be using is by Kenneth Dawson-Howe and I really like its conciseness and very good explanation of \n",
    "computer vision concepts in a very approachable manner.  You can get the book in print form by visiting your favorite book ordering website. In order to get the source code used in his book you can visit his website by following this link:\n",
    "https://www.scss.tcd.ie/publications/book-supplements/A-Practical-Introduction-to-Computer-Vision-with-OpenCV/Code/\n",
    "\n",
    "The third book is Learning OpenCV by Gary Bradski, one of the original members of the Intel's Performance Library team that working together with a number of optimization experts in Intel Russia, officially launched the OpenCV library project in 1999."
   ]
  },
  {
   "cell_type": "markdown",
   "metadata": {},
   "source": [
    "In order to make our first project when using C++ we need to create a CMakeLists.txt file if using CMake.  This CMake file will look \n",
    "like this depending on where your OpenCV libraries are located. In my case I am creating an empty image, using the listed three \n",
    "libraries, including the directories in the path below.\n",
    "\n",
    "I am giving the project a generic name, empty_image, creating a binary named channel_image based on the source file channel_image.cpp."
   ]
  },
  {
   "cell_type": "code",
   "execution_count": null,
   "metadata": {},
   "outputs": [],
   "source": [
    "cmake_minimum_required(VERSION 2.8)\n",
    "project(empty_image)\n",
    "find_package(OpenCV 3.4 REQUIRED core imgproc highgui)\n",
    "\n",
    "# add executable\n",
    "add_executable( channel_image channel_image.cpp)\n",
    "\n",
    "include_directories(\n",
    "  ${OpenCV_INCLUDE_DIRS}\n",
    "  \"${PROJECT_SOURCE_DIR}/include\"\n",
    "  \"${PROJECT_BINARY_DIR}\"\n",
    ")\n",
    "\n",
    "target_link_libraries( channel_image ${OpenCV_LIBS})\n"
   ]
  },
  {
   "cell_type": "markdown",
   "metadata": {},
   "source": [
    "Now I will show you how to create an image with just one channel, in this case a black channel."
   ]
  },
  {
   "cell_type": "markdown",
   "metadata": {},
   "source": [
    "#include \"opencv2/highgui/highgui.hpp\"\n",
    "#include <iostream>\n",
    "\n",
    "using namespace std;\n",
    "using namespace cv;\n",
    "\n",
    "int main(int argc, const char**argv) {\n",
    "    \n",
    "\n",
    "     Mat img(300, 300, CV_8UC1, Scalar(0));\n",
    "   \n",
    "\n",
    "     if (img1.empty()) {\n",
    "           cout << \"Image not found\" << endl;\n",
    "           return -1;\n",
    "     }\n",
    "     namedWindow(\"1 channel\", CV_WINDOW_AUTOSIZE);\n",
    "     imshow(\"1 channel\", img);\n",
    "\n",
    "\n",
    "     waitKey(0);\n",
    "     return 0;\n",
    "}\n"
   ]
  },
  {
   "cell_type": "code",
   "execution_count": 2,
   "metadata": {},
   "outputs": [
    {
     "data": {
      "image/png": "[encoded data removed]",
      "text/plain": [
       "<IPython.core.display.Image object>"
      ]
     },
     "execution_count": 2,
     "metadata": {},
     "output_type": "execute_result"
    }
   ],
   "source": [
    "from IPython.display import Image\n",
    "Image(\"black.png\")"
   ]
  },
  {
   "cell_type": "markdown",
   "metadata": {},
   "source": [
    "Now let's walk through the code. In the first two lines you import the highgui library, and the iostream c++ library. You then let the\n",
    "compiler that you are using namespaces std for c++, and cv for OpenCV.  \n",
    "In this line :\n",
    "  Mat img(300, 300, CV_8UC1, Scalar(0));\n",
    "  \n",
    "you are creating a matrix, Mat with a 300X300 pixel image with one channel and scalar 0, or in other words black. If we leave the rest of the code alone, and just change the scalar value from 0 to 255, you will get the other extreme of the spectrum, in this case a perfectly white image. This new line will look like this:\n",
    "\n",
    "Mat img(300, 300, CV_8UC1, Scalar(255));"
   ]
  },
  {
   "cell_type": "code",
   "execution_count": null,
   "metadata": {},
   "outputs": [],
   "source": [
    "#include \"opencv2/highgui/highgui.hpp\"\n",
    "#include <iostream>\n",
    "\n",
    "using namespace std;\n",
    "using namespace cv;\n",
    "\n",
    "int main(int argc, const char**argv) {\n",
    "    \n",
    "\n",
    "     Mat img(300, 300, CV_8UC1, Scalar(255));\n",
    "    \n",
    "\n",
    "     if (img.empty()) {\n",
    "           cout << \"Image not found\" << endl;\n",
    "           return -1;\n",
    "     }\n",
    "     namedWindow(\"1 channel\", CV_WINDOW_AUTOSIZE);\n",
    "     imshow(\"1 channel\", img);\n",
    "\n",
    "     waitKey(0);\n",
    "     return 0;\n",
    "}\n"
   ]
  },
  {
   "cell_type": "code",
   "execution_count": 3,
   "metadata": {},
   "outputs": [
    {
     "data": {
      "image/png": "[encoded data removed]",
      "text/plain": [
       "<IPython.core.display.Image object>"
      ]
     },
     "execution_count": 3,
     "metadata": {},
     "output_type": "execute_result"
    }
   ],
   "source": [
    "Image(\"white.png\")"
   ]
  },
  {
   "cell_type": "code",
   "execution_count": null,
   "metadata": {},
   "outputs": [],
   "source": []
  }
 ],
 "metadata": {
  "kernelspec": {
   "display_name": "Python 2",
   "language": "python",
   "name": "python2"
  },
  "language_info": {
   "codemirror_mode": {
    "name": "ipython",
    "version": 2
   },
   "file_extension": ".py",
   "mimetype": "text/x-python",
   "name": "python",
   "nbconvert_exporter": "python",
   "pygments_lexer": "ipython2",
   "version": "2.7.11"
  }
 },
 "nbformat": 4,
 "nbformat_minor": 2
}
